{
  "metadata": {
    "kernelspec": {
      "language": "python",
      "display_name": "Python 3",
      "name": "python3"
    },
    "language_info": {
      "name": "python",
      "version": "3.6.6",
      "mimetype": "text/x-python",
      "codemirror_mode": {
        "name": "ipython",
        "version": 3
      },
      "pygments_lexer": "ipython3",
      "nbconvert_exporter": "python",
      "file_extension": ".py"
    },
    "kaggle": {
      "accelerator": "none",
      "dataSources": [
        {
          "sourceId": 4508,
          "sourceType": "datasetVersion",
          "datasetId": 138
        },
        {
          "sourceId": 6663,
          "sourceType": "datasetVersion",
          "datasetId": 3405
        }
      ],
      "dockerImageVersionId": 20477,
      "isInternetEnabled": false,
      "language": "python",
      "sourceType": "notebook",
      "isGpuEnabled": false
    },
    "colab": {
      "provenance": []
    }
  },
  "nbformat_minor": 0,
  "nbformat": 4,
  "cells": [
    {
      "cell_type": "markdown",
      "source": [
        "# **Types of Recommender Systems**"
      ],
      "metadata": {
        "_uuid": "d7aa1b0ad6979877450f9cd89e1e37289b51cf6e",
        "id": "o716hyJF_jNP"
      }
    },
    {
      "cell_type": "markdown",
      "source": [
        "In this kernel we'll be building a baseline Movie Recommendation System using [TMDB 5000 Movie Dataset](https://www.kaggle.com/tmdb/tmdb-movie-metadata)."
      ],
      "metadata": {
        "_uuid": "f34fc4dcfba717692c620e1fdfa502ee910c6365",
        "id": "sNzZzV_V_jNg"
      }
    },
    {
      "cell_type": "markdown",
      "source": [
        "There are basically three types of recommender systems:-\n",
        "\n",
        "> *  **Demographic Filtering**- They offer generalized recommendations to every user, based on movie popularity and/or genre. The System recommends the same movies to users with similar demographic features. Since each user is different , this approach is considered to be too simple. The basic idea behind this system is that movies that are more popular and critically acclaimed will have a higher probability of being liked by the average audience.\n",
        "\n",
        "![](https://i.imgur.com/rV4hfnH.jpeg)\n",
        "\n",
        "\n",
        "\n"
      ],
      "metadata": {
        "_uuid": "f9a9405b7e81c1da449bd2e96c2849fb86caa614",
        "id": "2r6-FP9__jNi"
      }
    },
    {
      "cell_type": "markdown",
      "source": [
        "> *  **Content Based Filtering**- They suggest similar items based on a particular item. This system uses item metadata, such as genre, director, description, actors, etc. for movies, to make these recommendations. The general idea behind these recommender systems is that if a person liked a particular item, he or she will also like an item that is similar to it.\n",
        "\n",
        "### Amazon\n",
        "![](https://i.imgur.com/Qg5qBgl.png)\n",
        "\n",
        "\n",
        "\n",
        "\n",
        "\n",
        "\n",
        "\n",
        "\n",
        "\n",
        "\n",
        "### Netflix\n",
        "\n",
        "![](https://i.imgur.com/Ugkbtfi.png)"
      ],
      "metadata": {
        "_uuid": "60a2df15abf82ba21918e3a42cb0ee46d22fa764",
        "id": "_P-7i4NO_jNj"
      }
    },
    {
      "cell_type": "markdown",
      "source": [
        "> *  **Collaborative Filtering**- This system matches persons with similar interests and provides recommendations based on this matching. Collaborative filters do not require item metadata like its content-based counterparts.\n",
        "\n",
        "### Amazon\n",
        "![](https://i.imgur.com/N3hoabm.png)"
      ],
      "metadata": {
        "_uuid": "b7e719fcc502c59f098a51ae35e2ceb6d7cdfe4e",
        "id": "EMrl6_N5_jNn"
      }
    },
    {
      "cell_type": "markdown",
      "source": [
        "Let's load the data now."
      ],
      "metadata": {
        "_uuid": "6b418588e3f9139f74cb3a9546f5dca49729579b",
        "id": "D3pz58-8_jNp"
      }
    },
    {
      "cell_type": "code",
      "source": [
        "import pandas as pd\n",
        "import numpy as np\n",
        "df1=pd.read_csv('/content/tmdb_5000_credits.csv')\n",
        "df2=pd.read_csv('/content/tmdb_5000_movies.csv')"
      ],
      "metadata": {
        "_uuid": "c1fdd129c1cbab68ae3e6bf2062575f01f80b87c",
        "trusted": true,
        "id": "3p3zXDom_jNq"
      },
      "execution_count": null,
      "outputs": []
    },
    {
      "cell_type": "markdown",
      "source": [
        "The first dataset contains the following features:-\n",
        "\n",
        "* movie_id - A unique identifier for each movie.\n",
        "* cast - The name of lead and supporting actors.\n",
        "* crew - The name of Director, Editor, Composer, Writer etc.\n",
        "\n",
        "The second dataset has the following features:-\n",
        "\n",
        "* budget - The budget in which the movie was made.\n",
        "* genre - The genre of the movie, Action, Comedy ,Thriller etc.\n",
        "* homepage - A link to the homepage of the movie.\n",
        "* id - This is infact the movie_id as in the first dataset.\n",
        "* keywords - The keywords or tags related to the movie.\n",
        "* original_language - The language in which the movie was made.\n",
        "* original_title - The title of the movie before translation or adaptation.\n",
        "* overview - A brief description of the movie.\n",
        "* popularity - A numeric quantity specifying the movie popularity.\n",
        "* production_companies - The production house of the movie.\n",
        "* production_countries - The country in which it was produced.\n",
        "* release_date - The date on which it was released.\n",
        "* revenue - The worldwide revenue generated by the movie.\n",
        "* runtime - The running time of the movie in minutes.\n",
        "* status - \"Released\" or \"Rumored\".\n",
        "* tagline - Movie's tagline.\n",
        "* title - Title of the movie.\n",
        "* vote_average -  average ratings the movie recieved.\n",
        "* vote_count - the count of votes recieved.\n",
        "\n",
        "Let's join the two dataset on the 'id' column\n"
      ],
      "metadata": {
        "_uuid": "402a28d17c13bba3f2060d72c2ff75f5377a9f01",
        "id": "nbED8oDw_jNs"
      }
    },
    {
      "cell_type": "code",
      "source": [
        "df1.columns = ['id','tittle','cast','crew']\n",
        "df2= df2.merge(df1,on='id')"
      ],
      "metadata": {
        "_uuid": "c87bda9d56a936be126d03eda0bc743ee35be461",
        "trusted": true,
        "id": "fRzeAf58_jNt"
      },
      "execution_count": null,
      "outputs": []
    },
    {
      "cell_type": "markdown",
      "source": [
        "Just a peak at our data."
      ],
      "metadata": {
        "_uuid": "e88ed16f798ec3a094fce8aaf8a971f7b2aae83e",
        "id": "4lOXkBrl_jNt"
      }
    },
    {
      "cell_type": "code",
      "source": [
        "df2.head(5)"
      ],
      "metadata": {
        "_uuid": "71d266ed92947c51acf07189d3b42379134ef6e7",
        "trusted": true,
        "id": "Eu-F1nFp_jNt",
        "colab": {
          "base_uri": "https://localhost:8080/",
          "height": 758
        },
        "outputId": "4f3f27c0-3225-48db-d915-180643b05952"
      },
      "execution_count": null,
      "outputs": [
        {
          "output_type": "execute_result",
          "data": {
            "text/plain": [
              "      budget                                             genres  \\\n",
              "0  237000000  [{\"id\": 28, \"name\": \"Action\"}, {\"id\": 12, \"nam...   \n",
              "1  300000000  [{\"id\": 12, \"name\": \"Adventure\"}, {\"id\": 14, \"...   \n",
              "2  245000000  [{\"id\": 28, \"name\": \"Action\"}, {\"id\": 12, \"nam...   \n",
              "3  250000000  [{\"id\": 28, \"name\": \"Action\"}, {\"id\": 80, \"nam...   \n",
              "4  260000000  [{\"id\": 28, \"name\": \"Action\"}, {\"id\": 12, \"nam...   \n",
              "\n",
              "                                       homepage      id  \\\n",
              "0                   http://www.avatarmovie.com/   19995   \n",
              "1  http://disney.go.com/disneypictures/pirates/     285   \n",
              "2   http://www.sonypictures.com/movies/spectre/  206647   \n",
              "3            http://www.thedarkknightrises.com/   49026   \n",
              "4          http://movies.disney.com/john-carter   49529   \n",
              "\n",
              "                                            keywords original_language  \\\n",
              "0  [{\"id\": 1463, \"name\": \"culture clash\"}, {\"id\":...                en   \n",
              "1  [{\"id\": 270, \"name\": \"ocean\"}, {\"id\": 726, \"na...                en   \n",
              "2  [{\"id\": 470, \"name\": \"spy\"}, {\"id\": 818, \"name...                en   \n",
              "3  [{\"id\": 849, \"name\": \"dc comics\"}, {\"id\": 853,...                en   \n",
              "4  [{\"id\": 818, \"name\": \"based on novel\"}, {\"id\":...                en   \n",
              "\n",
              "                             original_title  \\\n",
              "0                                    Avatar   \n",
              "1  Pirates of the Caribbean: At World's End   \n",
              "2                                   Spectre   \n",
              "3                     The Dark Knight Rises   \n",
              "4                               John Carter   \n",
              "\n",
              "                                            overview  popularity  \\\n",
              "0  In the 22nd century, a paraplegic Marine is di...  150.437577   \n",
              "1  Captain Barbossa, long believed to be dead, ha...  139.082615   \n",
              "2  A cryptic message from Bond’s past sends him o...  107.376788   \n",
              "3  Following the death of District Attorney Harve...  112.312950   \n",
              "4  John Carter is a war-weary, former military ca...   43.926995   \n",
              "\n",
              "                                production_companies  ... runtime  \\\n",
              "0  [{\"name\": \"Ingenious Film Partners\", \"id\": 289...  ...   162.0   \n",
              "1  [{\"name\": \"Walt Disney Pictures\", \"id\": 2}, {\"...  ...   169.0   \n",
              "2  [{\"name\": \"Columbia Pictures\", \"id\": 5}, {\"nam...  ...   148.0   \n",
              "3  [{\"name\": \"Legendary Pictures\", \"id\": 923}, {\"...  ...   165.0   \n",
              "4        [{\"name\": \"Walt Disney Pictures\", \"id\": 2}]  ...   132.0   \n",
              "\n",
              "                                    spoken_languages    status  \\\n",
              "0  [{\"iso_639_1\": \"en\", \"name\": \"English\"}, {\"iso...  Released   \n",
              "1           [{\"iso_639_1\": \"en\", \"name\": \"English\"}]  Released   \n",
              "2  [{\"iso_639_1\": \"fr\", \"name\": \"Fran\\u00e7ais\"},...  Released   \n",
              "3           [{\"iso_639_1\": \"en\", \"name\": \"English\"}]  Released   \n",
              "4           [{\"iso_639_1\": \"en\", \"name\": \"English\"}]  Released   \n",
              "\n",
              "                                          tagline  \\\n",
              "0                     Enter the World of Pandora.   \n",
              "1  At the end of the world, the adventure begins.   \n",
              "2                           A Plan No One Escapes   \n",
              "3                                 The Legend Ends   \n",
              "4            Lost in our world, found in another.   \n",
              "\n",
              "                                      title vote_average vote_count  \\\n",
              "0                                    Avatar          7.2      11800   \n",
              "1  Pirates of the Caribbean: At World's End          6.9       4500   \n",
              "2                                   Spectre          6.3       4466   \n",
              "3                     The Dark Knight Rises          7.6       9106   \n",
              "4                               John Carter          6.1       2124   \n",
              "\n",
              "                                     tittle  \\\n",
              "0                                    Avatar   \n",
              "1  Pirates of the Caribbean: At World's End   \n",
              "2                                   Spectre   \n",
              "3                     The Dark Knight Rises   \n",
              "4                               John Carter   \n",
              "\n",
              "                                                cast  \\\n",
              "0  [{\"cast_id\": 242, \"character\": \"Jake Sully\", \"...   \n",
              "1  [{\"cast_id\": 4, \"character\": \"Captain Jack Spa...   \n",
              "2  [{\"cast_id\": 1, \"character\": \"James Bond\", \"cr...   \n",
              "3  [{\"cast_id\": 2, \"character\": \"Bruce Wayne / Ba...   \n",
              "4  [{\"cast_id\": 5, \"character\": \"John Carter\", \"c...   \n",
              "\n",
              "                                                crew  \n",
              "0  [{\"credit_id\": \"52fe48009251416c750aca23\", \"de...  \n",
              "1  [{\"credit_id\": \"52fe4232c3a36847f800b579\", \"de...  \n",
              "2  [{\"credit_id\": \"54805967c3a36829b5002c41\", \"de...  \n",
              "3  [{\"credit_id\": \"52fe4781c3a36847f81398c3\", \"de...  \n",
              "4  [{\"credit_id\": \"52fe479ac3a36847f813eaa3\", \"de...  \n",
              "\n",
              "[5 rows x 23 columns]"
            ],
            "text/html": [
              "\n",
              "  <div id=\"df-f6163f7c-57a8-438e-ae11-3a84b8926782\" class=\"colab-df-container\">\n",
              "    <div>\n",
              "<style scoped>\n",
              "    .dataframe tbody tr th:only-of-type {\n",
              "        vertical-align: middle;\n",
              "    }\n",
              "\n",
              "    .dataframe tbody tr th {\n",
              "        vertical-align: top;\n",
              "    }\n",
              "\n",
              "    .dataframe thead th {\n",
              "        text-align: right;\n",
              "    }\n",
              "</style>\n",
              "<table border=\"1\" class=\"dataframe\">\n",
              "  <thead>\n",
              "    <tr style=\"text-align: right;\">\n",
              "      <th></th>\n",
              "      <th>budget</th>\n",
              "      <th>genres</th>\n",
              "      <th>homepage</th>\n",
              "      <th>id</th>\n",
              "      <th>keywords</th>\n",
              "      <th>original_language</th>\n",
              "      <th>original_title</th>\n",
              "      <th>overview</th>\n",
              "      <th>popularity</th>\n",
              "      <th>production_companies</th>\n",
              "      <th>...</th>\n",
              "      <th>runtime</th>\n",
              "      <th>spoken_languages</th>\n",
              "      <th>status</th>\n",
              "      <th>tagline</th>\n",
              "      <th>title</th>\n",
              "      <th>vote_average</th>\n",
              "      <th>vote_count</th>\n",
              "      <th>tittle</th>\n",
              "      <th>cast</th>\n",
              "      <th>crew</th>\n",
              "    </tr>\n",
              "  </thead>\n",
              "  <tbody>\n",
              "    <tr>\n",
              "      <th>0</th>\n",
              "      <td>237000000</td>\n",
              "      <td>[{\"id\": 28, \"name\": \"Action\"}, {\"id\": 12, \"nam...</td>\n",
              "      <td>http://www.avatarmovie.com/</td>\n",
              "      <td>19995</td>\n",
              "      <td>[{\"id\": 1463, \"name\": \"culture clash\"}, {\"id\":...</td>\n",
              "      <td>en</td>\n",
              "      <td>Avatar</td>\n",
              "      <td>In the 22nd century, a paraplegic Marine is di...</td>\n",
              "      <td>150.437577</td>\n",
              "      <td>[{\"name\": \"Ingenious Film Partners\", \"id\": 289...</td>\n",
              "      <td>...</td>\n",
              "      <td>162.0</td>\n",
              "      <td>[{\"iso_639_1\": \"en\", \"name\": \"English\"}, {\"iso...</td>\n",
              "      <td>Released</td>\n",
              "      <td>Enter the World of Pandora.</td>\n",
              "      <td>Avatar</td>\n",
              "      <td>7.2</td>\n",
              "      <td>11800</td>\n",
              "      <td>Avatar</td>\n",
              "      <td>[{\"cast_id\": 242, \"character\": \"Jake Sully\", \"...</td>\n",
              "      <td>[{\"credit_id\": \"52fe48009251416c750aca23\", \"de...</td>\n",
              "    </tr>\n",
              "    <tr>\n",
              "      <th>1</th>\n",
              "      <td>300000000</td>\n",
              "      <td>[{\"id\": 12, \"name\": \"Adventure\"}, {\"id\": 14, \"...</td>\n",
              "      <td>http://disney.go.com/disneypictures/pirates/</td>\n",
              "      <td>285</td>\n",
              "      <td>[{\"id\": 270, \"name\": \"ocean\"}, {\"id\": 726, \"na...</td>\n",
              "      <td>en</td>\n",
              "      <td>Pirates of the Caribbean: At World's End</td>\n",
              "      <td>Captain Barbossa, long believed to be dead, ha...</td>\n",
              "      <td>139.082615</td>\n",
              "      <td>[{\"name\": \"Walt Disney Pictures\", \"id\": 2}, {\"...</td>\n",
              "      <td>...</td>\n",
              "      <td>169.0</td>\n",
              "      <td>[{\"iso_639_1\": \"en\", \"name\": \"English\"}]</td>\n",
              "      <td>Released</td>\n",
              "      <td>At the end of the world, the adventure begins.</td>\n",
              "      <td>Pirates of the Caribbean: At World's End</td>\n",
              "      <td>6.9</td>\n",
              "      <td>4500</td>\n",
              "      <td>Pirates of the Caribbean: At World's End</td>\n",
              "      <td>[{\"cast_id\": 4, \"character\": \"Captain Jack Spa...</td>\n",
              "      <td>[{\"credit_id\": \"52fe4232c3a36847f800b579\", \"de...</td>\n",
              "    </tr>\n",
              "    <tr>\n",
              "      <th>2</th>\n",
              "      <td>245000000</td>\n",
              "      <td>[{\"id\": 28, \"name\": \"Action\"}, {\"id\": 12, \"nam...</td>\n",
              "      <td>http://www.sonypictures.com/movies/spectre/</td>\n",
              "      <td>206647</td>\n",
              "      <td>[{\"id\": 470, \"name\": \"spy\"}, {\"id\": 818, \"name...</td>\n",
              "      <td>en</td>\n",
              "      <td>Spectre</td>\n",
              "      <td>A cryptic message from Bond’s past sends him o...</td>\n",
              "      <td>107.376788</td>\n",
              "      <td>[{\"name\": \"Columbia Pictures\", \"id\": 5}, {\"nam...</td>\n",
              "      <td>...</td>\n",
              "      <td>148.0</td>\n",
              "      <td>[{\"iso_639_1\": \"fr\", \"name\": \"Fran\\u00e7ais\"},...</td>\n",
              "      <td>Released</td>\n",
              "      <td>A Plan No One Escapes</td>\n",
              "      <td>Spectre</td>\n",
              "      <td>6.3</td>\n",
              "      <td>4466</td>\n",
              "      <td>Spectre</td>\n",
              "      <td>[{\"cast_id\": 1, \"character\": \"James Bond\", \"cr...</td>\n",
              "      <td>[{\"credit_id\": \"54805967c3a36829b5002c41\", \"de...</td>\n",
              "    </tr>\n",
              "    <tr>\n",
              "      <th>3</th>\n",
              "      <td>250000000</td>\n",
              "      <td>[{\"id\": 28, \"name\": \"Action\"}, {\"id\": 80, \"nam...</td>\n",
              "      <td>http://www.thedarkknightrises.com/</td>\n",
              "      <td>49026</td>\n",
              "      <td>[{\"id\": 849, \"name\": \"dc comics\"}, {\"id\": 853,...</td>\n",
              "      <td>en</td>\n",
              "      <td>The Dark Knight Rises</td>\n",
              "      <td>Following the death of District Attorney Harve...</td>\n",
              "      <td>112.312950</td>\n",
              "      <td>[{\"name\": \"Legendary Pictures\", \"id\": 923}, {\"...</td>\n",
              "      <td>...</td>\n",
              "      <td>165.0</td>\n",
              "      <td>[{\"iso_639_1\": \"en\", \"name\": \"English\"}]</td>\n",
              "      <td>Released</td>\n",
              "      <td>The Legend Ends</td>\n",
              "      <td>The Dark Knight Rises</td>\n",
              "      <td>7.6</td>\n",
              "      <td>9106</td>\n",
              "      <td>The Dark Knight Rises</td>\n",
              "      <td>[{\"cast_id\": 2, \"character\": \"Bruce Wayne / Ba...</td>\n",
              "      <td>[{\"credit_id\": \"52fe4781c3a36847f81398c3\", \"de...</td>\n",
              "    </tr>\n",
              "    <tr>\n",
              "      <th>4</th>\n",
              "      <td>260000000</td>\n",
              "      <td>[{\"id\": 28, \"name\": \"Action\"}, {\"id\": 12, \"nam...</td>\n",
              "      <td>http://movies.disney.com/john-carter</td>\n",
              "      <td>49529</td>\n",
              "      <td>[{\"id\": 818, \"name\": \"based on novel\"}, {\"id\":...</td>\n",
              "      <td>en</td>\n",
              "      <td>John Carter</td>\n",
              "      <td>John Carter is a war-weary, former military ca...</td>\n",
              "      <td>43.926995</td>\n",
              "      <td>[{\"name\": \"Walt Disney Pictures\", \"id\": 2}]</td>\n",
              "      <td>...</td>\n",
              "      <td>132.0</td>\n",
              "      <td>[{\"iso_639_1\": \"en\", \"name\": \"English\"}]</td>\n",
              "      <td>Released</td>\n",
              "      <td>Lost in our world, found in another.</td>\n",
              "      <td>John Carter</td>\n",
              "      <td>6.1</td>\n",
              "      <td>2124</td>\n",
              "      <td>John Carter</td>\n",
              "      <td>[{\"cast_id\": 5, \"character\": \"John Carter\", \"c...</td>\n",
              "      <td>[{\"credit_id\": \"52fe479ac3a36847f813eaa3\", \"de...</td>\n",
              "    </tr>\n",
              "  </tbody>\n",
              "</table>\n",
              "<p>5 rows × 23 columns</p>\n",
              "</div>\n",
              "    <div class=\"colab-df-buttons\">\n",
              "\n",
              "  <div class=\"colab-df-container\">\n",
              "    <button class=\"colab-df-convert\" onclick=\"convertToInteractive('df-f6163f7c-57a8-438e-ae11-3a84b8926782')\"\n",
              "            title=\"Convert this dataframe to an interactive table.\"\n",
              "            style=\"display:none;\">\n",
              "\n",
              "  <svg xmlns=\"http://www.w3.org/2000/svg\" height=\"24px\" viewBox=\"0 -960 960 960\">\n",
              "    <path d=\"M120-120v-720h720v720H120Zm60-500h600v-160H180v160Zm220 220h160v-160H400v160Zm0 220h160v-160H400v160ZM180-400h160v-160H180v160Zm440 0h160v-160H620v160ZM180-180h160v-160H180v160Zm440 0h160v-160H620v160Z\"/>\n",
              "  </svg>\n",
              "    </button>\n",
              "\n",
              "  <style>\n",
              "    .colab-df-container {\n",
              "      display:flex;\n",
              "      gap: 12px;\n",
              "    }\n",
              "\n",
              "    .colab-df-convert {\n",
              "      background-color: #E8F0FE;\n",
              "      border: none;\n",
              "      border-radius: 50%;\n",
              "      cursor: pointer;\n",
              "      display: none;\n",
              "      fill: #1967D2;\n",
              "      height: 32px;\n",
              "      padding: 0 0 0 0;\n",
              "      width: 32px;\n",
              "    }\n",
              "\n",
              "    .colab-df-convert:hover {\n",
              "      background-color: #E2EBFA;\n",
              "      box-shadow: 0px 1px 2px rgba(60, 64, 67, 0.3), 0px 1px 3px 1px rgba(60, 64, 67, 0.15);\n",
              "      fill: #174EA6;\n",
              "    }\n",
              "\n",
              "    .colab-df-buttons div {\n",
              "      margin-bottom: 4px;\n",
              "    }\n",
              "\n",
              "    [theme=dark] .colab-df-convert {\n",
              "      background-color: #3B4455;\n",
              "      fill: #D2E3FC;\n",
              "    }\n",
              "\n",
              "    [theme=dark] .colab-df-convert:hover {\n",
              "      background-color: #434B5C;\n",
              "      box-shadow: 0px 1px 3px 1px rgba(0, 0, 0, 0.15);\n",
              "      filter: drop-shadow(0px 1px 2px rgba(0, 0, 0, 0.3));\n",
              "      fill: #FFFFFF;\n",
              "    }\n",
              "  </style>\n",
              "\n",
              "    <script>\n",
              "      const buttonEl =\n",
              "        document.querySelector('#df-f6163f7c-57a8-438e-ae11-3a84b8926782 button.colab-df-convert');\n",
              "      buttonEl.style.display =\n",
              "        google.colab.kernel.accessAllowed ? 'block' : 'none';\n",
              "\n",
              "      async function convertToInteractive(key) {\n",
              "        const element = document.querySelector('#df-f6163f7c-57a8-438e-ae11-3a84b8926782');\n",
              "        const dataTable =\n",
              "          await google.colab.kernel.invokeFunction('convertToInteractive',\n",
              "                                                    [key], {});\n",
              "        if (!dataTable) return;\n",
              "\n",
              "        const docLinkHtml = 'Like what you see? Visit the ' +\n",
              "          '<a target=\"_blank\" href=https://colab.research.google.com/notebooks/data_table.ipynb>data table notebook</a>'\n",
              "          + ' to learn more about interactive tables.';\n",
              "        element.innerHTML = '';\n",
              "        dataTable['output_type'] = 'display_data';\n",
              "        await google.colab.output.renderOutput(dataTable, element);\n",
              "        const docLink = document.createElement('div');\n",
              "        docLink.innerHTML = docLinkHtml;\n",
              "        element.appendChild(docLink);\n",
              "      }\n",
              "    </script>\n",
              "  </div>\n",
              "\n",
              "\n",
              "<div id=\"df-16d4e694-ae05-4af3-8559-85975d43a4f4\">\n",
              "  <button class=\"colab-df-quickchart\" onclick=\"quickchart('df-16d4e694-ae05-4af3-8559-85975d43a4f4')\"\n",
              "            title=\"Suggest charts\"\n",
              "            style=\"display:none;\">\n",
              "\n",
              "<svg xmlns=\"http://www.w3.org/2000/svg\" height=\"24px\"viewBox=\"0 0 24 24\"\n",
              "     width=\"24px\">\n",
              "    <g>\n",
              "        <path d=\"M19 3H5c-1.1 0-2 .9-2 2v14c0 1.1.9 2 2 2h14c1.1 0 2-.9 2-2V5c0-1.1-.9-2-2-2zM9 17H7v-7h2v7zm4 0h-2V7h2v10zm4 0h-2v-4h2v4z\"/>\n",
              "    </g>\n",
              "</svg>\n",
              "  </button>\n",
              "\n",
              "<style>\n",
              "  .colab-df-quickchart {\n",
              "      --bg-color: #E8F0FE;\n",
              "      --fill-color: #1967D2;\n",
              "      --hover-bg-color: #E2EBFA;\n",
              "      --hover-fill-color: #174EA6;\n",
              "      --disabled-fill-color: #AAA;\n",
              "      --disabled-bg-color: #DDD;\n",
              "  }\n",
              "\n",
              "  [theme=dark] .colab-df-quickchart {\n",
              "      --bg-color: #3B4455;\n",
              "      --fill-color: #D2E3FC;\n",
              "      --hover-bg-color: #434B5C;\n",
              "      --hover-fill-color: #FFFFFF;\n",
              "      --disabled-bg-color: #3B4455;\n",
              "      --disabled-fill-color: #666;\n",
              "  }\n",
              "\n",
              "  .colab-df-quickchart {\n",
              "    background-color: var(--bg-color);\n",
              "    border: none;\n",
              "    border-radius: 50%;\n",
              "    cursor: pointer;\n",
              "    display: none;\n",
              "    fill: var(--fill-color);\n",
              "    height: 32px;\n",
              "    padding: 0;\n",
              "    width: 32px;\n",
              "  }\n",
              "\n",
              "  .colab-df-quickchart:hover {\n",
              "    background-color: var(--hover-bg-color);\n",
              "    box-shadow: 0 1px 2px rgba(60, 64, 67, 0.3), 0 1px 3px 1px rgba(60, 64, 67, 0.15);\n",
              "    fill: var(--button-hover-fill-color);\n",
              "  }\n",
              "\n",
              "  .colab-df-quickchart-complete:disabled,\n",
              "  .colab-df-quickchart-complete:disabled:hover {\n",
              "    background-color: var(--disabled-bg-color);\n",
              "    fill: var(--disabled-fill-color);\n",
              "    box-shadow: none;\n",
              "  }\n",
              "\n",
              "  .colab-df-spinner {\n",
              "    border: 2px solid var(--fill-color);\n",
              "    border-color: transparent;\n",
              "    border-bottom-color: var(--fill-color);\n",
              "    animation:\n",
              "      spin 1s steps(1) infinite;\n",
              "  }\n",
              "\n",
              "  @keyframes spin {\n",
              "    0% {\n",
              "      border-color: transparent;\n",
              "      border-bottom-color: var(--fill-color);\n",
              "      border-left-color: var(--fill-color);\n",
              "    }\n",
              "    20% {\n",
              "      border-color: transparent;\n",
              "      border-left-color: var(--fill-color);\n",
              "      border-top-color: var(--fill-color);\n",
              "    }\n",
              "    30% {\n",
              "      border-color: transparent;\n",
              "      border-left-color: var(--fill-color);\n",
              "      border-top-color: var(--fill-color);\n",
              "      border-right-color: var(--fill-color);\n",
              "    }\n",
              "    40% {\n",
              "      border-color: transparent;\n",
              "      border-right-color: var(--fill-color);\n",
              "      border-top-color: var(--fill-color);\n",
              "    }\n",
              "    60% {\n",
              "      border-color: transparent;\n",
              "      border-right-color: var(--fill-color);\n",
              "    }\n",
              "    80% {\n",
              "      border-color: transparent;\n",
              "      border-right-color: var(--fill-color);\n",
              "      border-bottom-color: var(--fill-color);\n",
              "    }\n",
              "    90% {\n",
              "      border-color: transparent;\n",
              "      border-bottom-color: var(--fill-color);\n",
              "    }\n",
              "  }\n",
              "</style>\n",
              "\n",
              "  <script>\n",
              "    async function quickchart(key) {\n",
              "      const quickchartButtonEl =\n",
              "        document.querySelector('#' + key + ' button');\n",
              "      quickchartButtonEl.disabled = true;  // To prevent multiple clicks.\n",
              "      quickchartButtonEl.classList.add('colab-df-spinner');\n",
              "      try {\n",
              "        const charts = await google.colab.kernel.invokeFunction(\n",
              "            'suggestCharts', [key], {});\n",
              "      } catch (error) {\n",
              "        console.error('Error during call to suggestCharts:', error);\n",
              "      }\n",
              "      quickchartButtonEl.classList.remove('colab-df-spinner');\n",
              "      quickchartButtonEl.classList.add('colab-df-quickchart-complete');\n",
              "    }\n",
              "    (() => {\n",
              "      let quickchartButtonEl =\n",
              "        document.querySelector('#df-16d4e694-ae05-4af3-8559-85975d43a4f4 button');\n",
              "      quickchartButtonEl.style.display =\n",
              "        google.colab.kernel.accessAllowed ? 'block' : 'none';\n",
              "    })();\n",
              "  </script>\n",
              "</div>\n",
              "\n",
              "    </div>\n",
              "  </div>\n"
            ],
            "application/vnd.google.colaboratory.intrinsic+json": {
              "type": "dataframe",
              "variable_name": "df2"
            }
          },
          "metadata": {},
          "execution_count": 3
        }
      ]
    },
    {
      "cell_type": "markdown",
      "source": [
        "# **Demographic Filtering** -\n",
        "   Before getting started with this  -\n",
        "* we need a metric to score or rate a movie\n",
        "* Calculate the score for every movie\n",
        "* Sort the scores and recommend the best rated movie to the users.\n",
        "\n",
        "We can use the average ratings of the movie as the score but using this won't be fair enough since a movie with 8.9 average rating and only 3 votes cannot be considered better than the movie with 7.8 as as average rating but 40 votes.\n",
        "So, I'll be using IMDB's weighted rating (wr) which is given as :-\n",
        "\n",
        "![](https://image.ibb.co/jYWZp9/wr.png)\n",
        "where,\n",
        "* v is the number of votes for the movie;\n",
        "* m is the minimum votes required to be listed in the chart;\n",
        "* R is the average rating of the movie; And\n",
        "* C is the mean vote across the whole report\n",
        "\n",
        "We already have v(**vote_count**) and R (**vote_average**) and C can be calculated as"
      ],
      "metadata": {
        "_uuid": "ee603279675033fc397f0c94738e20b34f35312b",
        "id": "S0Z86NqA_jNu"
      }
    },
    {
      "cell_type": "code",
      "source": [
        "C= df2['vote_average'].mean()\n",
        "C"
      ],
      "metadata": {
        "_uuid": "5799b99c5e5ed5b7723ae8b31e1fc9fb1e7b89ec",
        "trusted": true,
        "id": "DIX1MMLz_jNu",
        "colab": {
          "base_uri": "https://localhost:8080/"
        },
        "outputId": "f0196973-bcca-44f8-d7d5-cfe4c7b326ef"
      },
      "execution_count": null,
      "outputs": [
        {
          "output_type": "execute_result",
          "data": {
            "text/plain": [
              "np.float64(6.092171559442016)"
            ]
          },
          "metadata": {},
          "execution_count": 4
        }
      ]
    },
    {
      "cell_type": "markdown",
      "source": [
        "So, the mean rating for all the movies is approx 6 on a scale of 10.The next step is to determine an appropriate value for m, the minimum votes required to be listed in the chart. We will use 90th percentile as our cutoff. In other words, for a movie to feature in the charts, it must have more votes than at least 90% of the movies in the list."
      ],
      "metadata": {
        "_uuid": "02fa8642f75bcef6d4a79e029af6dfeebf19e3a5",
        "id": "YJ_9xmJf_jNu"
      }
    },
    {
      "cell_type": "code",
      "source": [
        "m= df2['vote_count'].quantile(0.9)\n",
        "m"
      ],
      "metadata": {
        "_uuid": "f2f1eaff1e4349b5d2d11dd5ce79c19a85561148",
        "trusted": true,
        "id": "GFSnBaip_jNv",
        "colab": {
          "base_uri": "https://localhost:8080/"
        },
        "outputId": "356b5f02-5963-4622-e1e0-985ade76ec1d"
      },
      "execution_count": null,
      "outputs": [
        {
          "output_type": "execute_result",
          "data": {
            "text/plain": [
              "np.float64(1838.4000000000015)"
            ]
          },
          "metadata": {},
          "execution_count": 5
        }
      ]
    },
    {
      "cell_type": "markdown",
      "source": [
        "Now, we can filter out the movies that qualify for the chart"
      ],
      "metadata": {
        "_uuid": "b77dea5a38ca2c399e3abeac1487e784fe146078",
        "id": "HP6X8CZw_jNv"
      }
    },
    {
      "cell_type": "code",
      "source": [
        "q_movies = df2.copy().loc[df2['vote_count'] >= m]\n",
        "q_movies.shape"
      ],
      "metadata": {
        "_uuid": "a22008df6d81d3b716d39a56efd3d547345bfbce",
        "trusted": true,
        "id": "gEQwUrs3_jNv",
        "colab": {
          "base_uri": "https://localhost:8080/"
        },
        "outputId": "ea4c7e8d-5083-4f2f-c296-77bfcdfe7bae"
      },
      "execution_count": null,
      "outputs": [
        {
          "output_type": "execute_result",
          "data": {
            "text/plain": [
              "(481, 23)"
            ]
          },
          "metadata": {},
          "execution_count": 6
        }
      ]
    },
    {
      "cell_type": "markdown",
      "source": [
        "We see that there are 481 movies which qualify to be in this list. Now, we need to calculate our metric for each qualified movie. To do this, we will define a function, **weighted_rating()** and define a new feature **score**, of which we'll calculate the value by applying this function to our DataFrame of qualified movies:"
      ],
      "metadata": {
        "_uuid": "cf1fe5a3692caee41a6e7a74c3fde6aeb8a62947",
        "id": "e31PwA8k_jNv"
      }
    },
    {
      "cell_type": "code",
      "source": [
        "def weighted_rating(x, m=m, C=C):\n",
        "    v = x['vote_count']\n",
        "    R = x['vote_average']\n",
        "    # Calculation based on the IMDB formula\n",
        "    return (v/(v+m) * R) + (m/(m+v) * C)"
      ],
      "metadata": {
        "_uuid": "bb680ed0fb1c3020785d34152c57c6e2279d4424",
        "trusted": true,
        "id": "FXLu-_LQ_jNv"
      },
      "execution_count": null,
      "outputs": []
    },
    {
      "cell_type": "code",
      "source": [
        "# Define a new feature 'score' and calculate its value with `weighted_rating()`\n",
        "q_movies['score'] = q_movies.apply(weighted_rating, axis=1)"
      ],
      "metadata": {
        "_uuid": "d2d189929715237ab19a18fb8747239b86092968",
        "trusted": true,
        "id": "kIb24gJf_jNw"
      },
      "execution_count": null,
      "outputs": []
    },
    {
      "cell_type": "markdown",
      "source": [
        "Finally, let's sort the DataFrame based on the score feature and output the title, vote count, vote average and weighted rating or score of the top 10 movies."
      ],
      "metadata": {
        "_uuid": "4cdd60c146173606146ec4fc3a1c9d8c184cb81c",
        "id": "sJ1whd44_jNw"
      }
    },
    {
      "cell_type": "code",
      "source": [
        "#Sort movies based on score calculated above\n",
        "q_movies = q_movies.sort_values('score', ascending=False)\n",
        "\n",
        "#Print the top 15 movies\n",
        "q_movies[['title', 'vote_count', 'vote_average', 'score']].head(10)"
      ],
      "metadata": {
        "_uuid": "a9a9fc3810ea67c31908bbdf8bb930daa918102b",
        "trusted": true,
        "id": "NHy6Z9Em_jNw",
        "colab": {
          "base_uri": "https://localhost:8080/",
          "height": 363
        },
        "outputId": "d18ff3e2-3766-42e5-9843-c19815012909"
      },
      "execution_count": null,
      "outputs": [
        {
          "output_type": "execute_result",
          "data": {
            "text/plain": [
              "                                              title  vote_count  vote_average  \\\n",
              "1881                       The Shawshank Redemption        8205           8.5   \n",
              "662                                      Fight Club        9413           8.3   \n",
              "65                                  The Dark Knight       12002           8.2   \n",
              "3232                                   Pulp Fiction        8428           8.3   \n",
              "96                                        Inception       13752           8.1   \n",
              "3337                                  The Godfather        5893           8.4   \n",
              "95                                     Interstellar       10867           8.1   \n",
              "809                                    Forrest Gump        7927           8.2   \n",
              "329   The Lord of the Rings: The Return of the King        8064           8.1   \n",
              "1990                        The Empire Strikes Back        5879           8.2   \n",
              "\n",
              "         score  \n",
              "1881  8.059258  \n",
              "662   7.939256  \n",
              "65    7.920020  \n",
              "3232  7.904645  \n",
              "96    7.863239  \n",
              "3337  7.851236  \n",
              "95    7.809479  \n",
              "809   7.803188  \n",
              "329   7.727243  \n",
              "1990  7.697884  "
            ],
            "text/html": [
              "\n",
              "  <div id=\"df-52e8155b-3e09-4e62-8415-1533e1035d28\" class=\"colab-df-container\">\n",
              "    <div>\n",
              "<style scoped>\n",
              "    .dataframe tbody tr th:only-of-type {\n",
              "        vertical-align: middle;\n",
              "    }\n",
              "\n",
              "    .dataframe tbody tr th {\n",
              "        vertical-align: top;\n",
              "    }\n",
              "\n",
              "    .dataframe thead th {\n",
              "        text-align: right;\n",
              "    }\n",
              "</style>\n",
              "<table border=\"1\" class=\"dataframe\">\n",
              "  <thead>\n",
              "    <tr style=\"text-align: right;\">\n",
              "      <th></th>\n",
              "      <th>title</th>\n",
              "      <th>vote_count</th>\n",
              "      <th>vote_average</th>\n",
              "      <th>score</th>\n",
              "    </tr>\n",
              "  </thead>\n",
              "  <tbody>\n",
              "    <tr>\n",
              "      <th>1881</th>\n",
              "      <td>The Shawshank Redemption</td>\n",
              "      <td>8205</td>\n",
              "      <td>8.5</td>\n",
              "      <td>8.059258</td>\n",
              "    </tr>\n",
              "    <tr>\n",
              "      <th>662</th>\n",
              "      <td>Fight Club</td>\n",
              "      <td>9413</td>\n",
              "      <td>8.3</td>\n",
              "      <td>7.939256</td>\n",
              "    </tr>\n",
              "    <tr>\n",
              "      <th>65</th>\n",
              "      <td>The Dark Knight</td>\n",
              "      <td>12002</td>\n",
              "      <td>8.2</td>\n",
              "      <td>7.920020</td>\n",
              "    </tr>\n",
              "    <tr>\n",
              "      <th>3232</th>\n",
              "      <td>Pulp Fiction</td>\n",
              "      <td>8428</td>\n",
              "      <td>8.3</td>\n",
              "      <td>7.904645</td>\n",
              "    </tr>\n",
              "    <tr>\n",
              "      <th>96</th>\n",
              "      <td>Inception</td>\n",
              "      <td>13752</td>\n",
              "      <td>8.1</td>\n",
              "      <td>7.863239</td>\n",
              "    </tr>\n",
              "    <tr>\n",
              "      <th>3337</th>\n",
              "      <td>The Godfather</td>\n",
              "      <td>5893</td>\n",
              "      <td>8.4</td>\n",
              "      <td>7.851236</td>\n",
              "    </tr>\n",
              "    <tr>\n",
              "      <th>95</th>\n",
              "      <td>Interstellar</td>\n",
              "      <td>10867</td>\n",
              "      <td>8.1</td>\n",
              "      <td>7.809479</td>\n",
              "    </tr>\n",
              "    <tr>\n",
              "      <th>809</th>\n",
              "      <td>Forrest Gump</td>\n",
              "      <td>7927</td>\n",
              "      <td>8.2</td>\n",
              "      <td>7.803188</td>\n",
              "    </tr>\n",
              "    <tr>\n",
              "      <th>329</th>\n",
              "      <td>The Lord of the Rings: The Return of the King</td>\n",
              "      <td>8064</td>\n",
              "      <td>8.1</td>\n",
              "      <td>7.727243</td>\n",
              "    </tr>\n",
              "    <tr>\n",
              "      <th>1990</th>\n",
              "      <td>The Empire Strikes Back</td>\n",
              "      <td>5879</td>\n",
              "      <td>8.2</td>\n",
              "      <td>7.697884</td>\n",
              "    </tr>\n",
              "  </tbody>\n",
              "</table>\n",
              "</div>\n",
              "    <div class=\"colab-df-buttons\">\n",
              "\n",
              "  <div class=\"colab-df-container\">\n",
              "    <button class=\"colab-df-convert\" onclick=\"convertToInteractive('df-52e8155b-3e09-4e62-8415-1533e1035d28')\"\n",
              "            title=\"Convert this dataframe to an interactive table.\"\n",
              "            style=\"display:none;\">\n",
              "\n",
              "  <svg xmlns=\"http://www.w3.org/2000/svg\" height=\"24px\" viewBox=\"0 -960 960 960\">\n",
              "    <path d=\"M120-120v-720h720v720H120Zm60-500h600v-160H180v160Zm220 220h160v-160H400v160Zm0 220h160v-160H400v160ZM180-400h160v-160H180v160Zm440 0h160v-160H620v160ZM180-180h160v-160H180v160Zm440 0h160v-160H620v160Z\"/>\n",
              "  </svg>\n",
              "    </button>\n",
              "\n",
              "  <style>\n",
              "    .colab-df-container {\n",
              "      display:flex;\n",
              "      gap: 12px;\n",
              "    }\n",
              "\n",
              "    .colab-df-convert {\n",
              "      background-color: #E8F0FE;\n",
              "      border: none;\n",
              "      border-radius: 50%;\n",
              "      cursor: pointer;\n",
              "      display: none;\n",
              "      fill: #1967D2;\n",
              "      height: 32px;\n",
              "      padding: 0 0 0 0;\n",
              "      width: 32px;\n",
              "    }\n",
              "\n",
              "    .colab-df-convert:hover {\n",
              "      background-color: #E2EBFA;\n",
              "      box-shadow: 0px 1px 2px rgba(60, 64, 67, 0.3), 0px 1px 3px 1px rgba(60, 64, 67, 0.15);\n",
              "      fill: #174EA6;\n",
              "    }\n",
              "\n",
              "    .colab-df-buttons div {\n",
              "      margin-bottom: 4px;\n",
              "    }\n",
              "\n",
              "    [theme=dark] .colab-df-convert {\n",
              "      background-color: #3B4455;\n",
              "      fill: #D2E3FC;\n",
              "    }\n",
              "\n",
              "    [theme=dark] .colab-df-convert:hover {\n",
              "      background-color: #434B5C;\n",
              "      box-shadow: 0px 1px 3px 1px rgba(0, 0, 0, 0.15);\n",
              "      filter: drop-shadow(0px 1px 2px rgba(0, 0, 0, 0.3));\n",
              "      fill: #FFFFFF;\n",
              "    }\n",
              "  </style>\n",
              "\n",
              "    <script>\n",
              "      const buttonEl =\n",
              "        document.querySelector('#df-52e8155b-3e09-4e62-8415-1533e1035d28 button.colab-df-convert');\n",
              "      buttonEl.style.display =\n",
              "        google.colab.kernel.accessAllowed ? 'block' : 'none';\n",
              "\n",
              "      async function convertToInteractive(key) {\n",
              "        const element = document.querySelector('#df-52e8155b-3e09-4e62-8415-1533e1035d28');\n",
              "        const dataTable =\n",
              "          await google.colab.kernel.invokeFunction('convertToInteractive',\n",
              "                                                    [key], {});\n",
              "        if (!dataTable) return;\n",
              "\n",
              "        const docLinkHtml = 'Like what you see? Visit the ' +\n",
              "          '<a target=\"_blank\" href=https://colab.research.google.com/notebooks/data_table.ipynb>data table notebook</a>'\n",
              "          + ' to learn more about interactive tables.';\n",
              "        element.innerHTML = '';\n",
              "        dataTable['output_type'] = 'display_data';\n",
              "        await google.colab.output.renderOutput(dataTable, element);\n",
              "        const docLink = document.createElement('div');\n",
              "        docLink.innerHTML = docLinkHtml;\n",
              "        element.appendChild(docLink);\n",
              "      }\n",
              "    </script>\n",
              "  </div>\n",
              "\n",
              "\n",
              "<div id=\"df-df897d3f-f4fc-4955-bb55-c679628dc4a2\">\n",
              "  <button class=\"colab-df-quickchart\" onclick=\"quickchart('df-df897d3f-f4fc-4955-bb55-c679628dc4a2')\"\n",
              "            title=\"Suggest charts\"\n",
              "            style=\"display:none;\">\n",
              "\n",
              "<svg xmlns=\"http://www.w3.org/2000/svg\" height=\"24px\"viewBox=\"0 0 24 24\"\n",
              "     width=\"24px\">\n",
              "    <g>\n",
              "        <path d=\"M19 3H5c-1.1 0-2 .9-2 2v14c0 1.1.9 2 2 2h14c1.1 0 2-.9 2-2V5c0-1.1-.9-2-2-2zM9 17H7v-7h2v7zm4 0h-2V7h2v10zm4 0h-2v-4h2v4z\"/>\n",
              "    </g>\n",
              "</svg>\n",
              "  </button>\n",
              "\n",
              "<style>\n",
              "  .colab-df-quickchart {\n",
              "      --bg-color: #E8F0FE;\n",
              "      --fill-color: #1967D2;\n",
              "      --hover-bg-color: #E2EBFA;\n",
              "      --hover-fill-color: #174EA6;\n",
              "      --disabled-fill-color: #AAA;\n",
              "      --disabled-bg-color: #DDD;\n",
              "  }\n",
              "\n",
              "  [theme=dark] .colab-df-quickchart {\n",
              "      --bg-color: #3B4455;\n",
              "      --fill-color: #D2E3FC;\n",
              "      --hover-bg-color: #434B5C;\n",
              "      --hover-fill-color: #FFFFFF;\n",
              "      --disabled-bg-color: #3B4455;\n",
              "      --disabled-fill-color: #666;\n",
              "  }\n",
              "\n",
              "  .colab-df-quickchart {\n",
              "    background-color: var(--bg-color);\n",
              "    border: none;\n",
              "    border-radius: 50%;\n",
              "    cursor: pointer;\n",
              "    display: none;\n",
              "    fill: var(--fill-color);\n",
              "    height: 32px;\n",
              "    padding: 0;\n",
              "    width: 32px;\n",
              "  }\n",
              "\n",
              "  .colab-df-quickchart:hover {\n",
              "    background-color: var(--hover-bg-color);\n",
              "    box-shadow: 0 1px 2px rgba(60, 64, 67, 0.3), 0 1px 3px 1px rgba(60, 64, 67, 0.15);\n",
              "    fill: var(--button-hover-fill-color);\n",
              "  }\n",
              "\n",
              "  .colab-df-quickchart-complete:disabled,\n",
              "  .colab-df-quickchart-complete:disabled:hover {\n",
              "    background-color: var(--disabled-bg-color);\n",
              "    fill: var(--disabled-fill-color);\n",
              "    box-shadow: none;\n",
              "  }\n",
              "\n",
              "  .colab-df-spinner {\n",
              "    border: 2px solid var(--fill-color);\n",
              "    border-color: transparent;\n",
              "    border-bottom-color: var(--fill-color);\n",
              "    animation:\n",
              "      spin 1s steps(1) infinite;\n",
              "  }\n",
              "\n",
              "  @keyframes spin {\n",
              "    0% {\n",
              "      border-color: transparent;\n",
              "      border-bottom-color: var(--fill-color);\n",
              "      border-left-color: var(--fill-color);\n",
              "    }\n",
              "    20% {\n",
              "      border-color: transparent;\n",
              "      border-left-color: var(--fill-color);\n",
              "      border-top-color: var(--fill-color);\n",
              "    }\n",
              "    30% {\n",
              "      border-color: transparent;\n",
              "      border-left-color: var(--fill-color);\n",
              "      border-top-color: var(--fill-color);\n",
              "      border-right-color: var(--fill-color);\n",
              "    }\n",
              "    40% {\n",
              "      border-color: transparent;\n",
              "      border-right-color: var(--fill-color);\n",
              "      border-top-color: var(--fill-color);\n",
              "    }\n",
              "    60% {\n",
              "      border-color: transparent;\n",
              "      border-right-color: var(--fill-color);\n",
              "    }\n",
              "    80% {\n",
              "      border-color: transparent;\n",
              "      border-right-color: var(--fill-color);\n",
              "      border-bottom-color: var(--fill-color);\n",
              "    }\n",
              "    90% {\n",
              "      border-color: transparent;\n",
              "      border-bottom-color: var(--fill-color);\n",
              "    }\n",
              "  }\n",
              "</style>\n",
              "\n",
              "  <script>\n",
              "    async function quickchart(key) {\n",
              "      const quickchartButtonEl =\n",
              "        document.querySelector('#' + key + ' button');\n",
              "      quickchartButtonEl.disabled = true;  // To prevent multiple clicks.\n",
              "      quickchartButtonEl.classList.add('colab-df-spinner');\n",
              "      try {\n",
              "        const charts = await google.colab.kernel.invokeFunction(\n",
              "            'suggestCharts', [key], {});\n",
              "      } catch (error) {\n",
              "        console.error('Error during call to suggestCharts:', error);\n",
              "      }\n",
              "      quickchartButtonEl.classList.remove('colab-df-spinner');\n",
              "      quickchartButtonEl.classList.add('colab-df-quickchart-complete');\n",
              "    }\n",
              "    (() => {\n",
              "      let quickchartButtonEl =\n",
              "        document.querySelector('#df-df897d3f-f4fc-4955-bb55-c679628dc4a2 button');\n",
              "      quickchartButtonEl.style.display =\n",
              "        google.colab.kernel.accessAllowed ? 'block' : 'none';\n",
              "    })();\n",
              "  </script>\n",
              "</div>\n",
              "\n",
              "    </div>\n",
              "  </div>\n"
            ],
            "application/vnd.google.colaboratory.intrinsic+json": {
              "type": "dataframe",
              "summary": "{\n  \"name\": \"q_movies[['title', 'vote_count', 'vote_average', 'score']]\",\n  \"rows\": 10,\n  \"fields\": [\n    {\n      \"column\": \"title\",\n      \"properties\": {\n        \"dtype\": \"string\",\n        \"num_unique_values\": 10,\n        \"samples\": [\n          \"The Lord of the Rings: The Return of the King\",\n          \"Fight Club\",\n          \"The Godfather\"\n        ],\n        \"semantic_type\": \"\",\n        \"description\": \"\"\n      }\n    },\n    {\n      \"column\": \"vote_count\",\n      \"properties\": {\n        \"dtype\": \"number\",\n        \"std\": 2530,\n        \"min\": 5879,\n        \"max\": 13752,\n        \"num_unique_values\": 10,\n        \"samples\": [\n          8064,\n          9413,\n          5893\n        ],\n        \"semantic_type\": \"\",\n        \"description\": \"\"\n      }\n    },\n    {\n      \"column\": \"vote_average\",\n      \"properties\": {\n        \"dtype\": \"number\",\n        \"std\": 0.1349897115421109,\n        \"min\": 8.1,\n        \"max\": 8.5,\n        \"num_unique_values\": 5,\n        \"samples\": [\n          8.3,\n          8.4,\n          8.2\n        ],\n        \"semantic_type\": \"\",\n        \"description\": \"\"\n      }\n    },\n    {\n      \"column\": \"score\",\n      \"properties\": {\n        \"dtype\": \"number\",\n        \"std\": 0.10608907940395933,\n        \"min\": 7.697883768481379,\n        \"max\": 8.059257641324471,\n        \"num_unique_values\": 10,\n        \"samples\": [\n          7.727242708321032,\n          7.939256287651155,\n          7.851236282546266\n        ],\n        \"semantic_type\": \"\",\n        \"description\": \"\"\n      }\n    }\n  ]\n}"
            }
          },
          "metadata": {},
          "execution_count": 9
        }
      ]
    },
    {
      "cell_type": "markdown",
      "source": [
        "We have made our first(though very basic) recommender.\n",
        "Under the **Trending Now** tab of these systems we find movies that are very popular and they can just be obtained by sorting the dataset by the popularity column."
      ],
      "metadata": {
        "_uuid": "7625c6d5bd647f4f75eafd7880b7ca2d07938cf7",
        "id": "4PnPNMo8_jNw"
      }
    },
    {
      "cell_type": "code",
      "source": [
        "pop= df2.sort_values('popularity', ascending=False)\n",
        "import matplotlib.pyplot as plt\n",
        "plt.figure(figsize=(12,4))\n",
        "\n",
        "plt.barh(pop['title'].head(6),pop['popularity'].head(6), align='center',\n",
        "        color='skyblue')\n",
        "plt.gca().invert_yaxis()\n",
        "plt.xlabel(\"Popularity\")\n",
        "plt.title(\"Popular Movies\")\n"
      ],
      "metadata": {
        "_uuid": "207f7058f92698b5fd776f7771a3ac0cc2928bf1",
        "trusted": true,
        "id": "KeC7F8Kh_jNx",
        "colab": {
          "base_uri": "https://localhost:8080/",
          "height": 427
        },
        "outputId": "8e126e2d-945d-41db-a7c6-68da3c897cd6"
      },
      "execution_count": null,
      "outputs": [
        {
          "output_type": "execute_result",
          "data": {
            "text/plain": [
              "Text(0.5, 1.0, 'Popular Movies')"
            ]
          },
          "metadata": {},
          "execution_count": 10
        },
        {
          "output_type": "display_data",
          "data": {
            "text/plain": [
              "<Figure size 1200x400 with 1 Axes>"
            ],
            "image/png": "[encoded data removed]"
          },
          "metadata": {}
        }
      ]
    },
    {
      "cell_type": "markdown",
      "source": [
        "Now something to keep in mind is that these demographic recommender provide a general chart of recommended movies to all the users. They are not sensitive to the interests and tastes of a particular user.\n",
        "This is when we move on to a more refined system-  Content Basesd Filtering."
      ],
      "metadata": {
        "_uuid": "d1cf28fc0c22afa80edc6d464177035357721d35",
        "id": "66kER2Bk_jNx"
      }
    },
    {
      "cell_type": "markdown",
      "source": [
        "# **Content Based Filtering**\n",
        "In this recommender system the content of the movie (overview, cast, crew, keyword, tagline etc) is used to find its similarity with other movies. Then the movies that are most likely to be similar are recommended.\n",
        "\n",
        "![](https://image.ibb.co/f6mDXU/conten.png)"
      ],
      "metadata": {
        "_uuid": "fe716df6e5e5a354ac53d556087147c0a64df2cc",
        "id": "_5gwt9ET_jNx"
      }
    },
    {
      "cell_type": "markdown",
      "source": [
        "## **Plot description based Recommender**\n",
        "\n",
        "We will compute pairwise similarity scores for all movies based on their plot descriptions and recommend movies based on that similarity score. The plot description is given in the **overview** feature of our dataset.\n",
        "Let's take a look at the data. .."
      ],
      "metadata": {
        "_uuid": "b0a813c803b0ba1f0204188ab2a63dc7f59ce2eb",
        "id": "EYcJkbTQ_jNy"
      }
    },
    {
      "cell_type": "code",
      "source": [
        "df2['overview'].head(5)"
      ],
      "metadata": {
        "_uuid": "5e676c38ace04a24205b76b16dac0fa3e058027f",
        "trusted": true,
        "id": "mIWOLqDO_jNz",
        "colab": {
          "base_uri": "https://localhost:8080/",
          "height": 241
        },
        "outputId": "4820681e-bdd6-473f-e3b4-6bd59c777eee"
      },
      "execution_count": null,
      "outputs": [
        {
          "output_type": "execute_result",
          "data": {
            "text/plain": [
              "0    In the 22nd century, a paraplegic Marine is di...\n",
              "1    Captain Barbossa, long believed to be dead, ha...\n",
              "2    A cryptic message from Bond’s past sends him o...\n",
              "3    Following the death of District Attorney Harve...\n",
              "4    John Carter is a war-weary, former military ca...\n",
              "Name: overview, dtype: object"
            ],
            "text/html": [
              "<div>\n",
              "<style scoped>\n",
              "    .dataframe tbody tr th:only-of-type {\n",
              "        vertical-align: middle;\n",
              "    }\n",
              "\n",
              "    .dataframe tbody tr th {\n",
              "        vertical-align: top;\n",
              "    }\n",
              "\n",
              "    .dataframe thead th {\n",
              "        text-align: right;\n",
              "    }\n",
              "</style>\n",
              "<table border=\"1\" class=\"dataframe\">\n",
              "  <thead>\n",
              "    <tr style=\"text-align: right;\">\n",
              "      <th></th>\n",
              "      <th>overview</th>\n",
              "    </tr>\n",
              "  </thead>\n",
              "  <tbody>\n",
              "    <tr>\n",
              "      <th>0</th>\n",
              "      <td>In the 22nd century, a paraplegic Marine is di...</td>\n",
              "    </tr>\n",
              "    <tr>\n",
              "      <th>1</th>\n",
              "      <td>Captain Barbossa, long believed to be dead, ha...</td>\n",
              "    </tr>\n",
              "    <tr>\n",
              "      <th>2</th>\n",
              "      <td>A cryptic message from Bond’s past sends him o...</td>\n",
              "    </tr>\n",
              "    <tr>\n",
              "      <th>3</th>\n",
              "      <td>Following the death of District Attorney Harve...</td>\n",
              "    </tr>\n",
              "    <tr>\n",
              "      <th>4</th>\n",
              "      <td>John Carter is a war-weary, former military ca...</td>\n",
              "    </tr>\n",
              "  </tbody>\n",
              "</table>\n",
              "</div><br><label><b>dtype:</b> object</label>"
            ]
          },
          "metadata": {},
          "execution_count": 11
        }
      ]
    },
    {
      "cell_type": "markdown",
      "source": [
        "For any of you who has done even a  bit of text processing before knows we need to convert the word vector of each overview.\n",
        "Now we'll compute Term Frequency-Inverse Document Frequency (TF-IDF) vectors for each overview."
      ],
      "metadata": {
        "_uuid": "277a9bb5b00a6bd2469c45777f9c659066f402b3",
        "id": "hAYMRsMH_jNz"
      }
    },
    {
      "cell_type": "markdown",
      "source": [
        "1. Term Frequency (TF):\n",
        "Measures how often a term appears in a document.\n",
        "\n",
        "![image.png](data:image/png;base64,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)\n",
        "\n",
        "**Higher if a word appears frequently in a document.**"
      ],
      "metadata": {
        "id": "4UjL-e-ABWpI"
      }
    },
    {
      "cell_type": "markdown",
      "source": [
        "2. Inverse Document Frequency (IDF):\n",
        "Measures how important or rare a term is across all documents in the corpus.\n",
        "\n",
        "![image.png](data:image/png;base64,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)\n",
        "\n",
        "Where:\n",
        "\n",
        "N = total number of documents\n",
        "\n",
        "DF(t) = number of documents that contain the term\n",
        "\n",
        "\n",
        "**Rare terms across documents get a higher IDF value.**"
      ],
      "metadata": {
        "id": "mfdpwH3zB3S1"
      }
    },
    {
      "cell_type": "markdown",
      "source": [
        "**TF-IDF Score:**\n",
        "The final score is the product of TF and IDF.\n",
        "\n",
        "TF-IDF(t,d) = TF(t,d) × IDF(t)"
      ],
      "metadata": {
        "id": "Lm_u6r6SCVLc"
      }
    },
    {
      "cell_type": "code",
      "source": [
        "#Import TfIdfVectorizer from scikit-learn\n",
        "from sklearn.feature_extraction.text import TfidfVectorizer\n",
        "\n",
        "#Define a TF-IDF Vectorizer Object. Remove all english stop words such as 'the', 'a'\n",
        "tfidf = TfidfVectorizer(stop_words='english')\n",
        "\n",
        "#Replace NaN with an empty string\n",
        "df2['overview'] = df2['overview'].fillna('')\n",
        "\n",
        "#Construct the required TF-IDF matrix by fitting and transforming the data\n",
        "tfidf_matrix = tfidf.fit_transform(df2['overview'])\n",
        "\n",
        "#Output the shape of tfidf_matrix\n",
        "tfidf_matrix.shape"
      ],
      "metadata": {
        "_uuid": "a92da8cde39c61deef5a1b8efa31ed84cda7f5fe",
        "trusted": true,
        "id": "V39QSbLg_jNz",
        "colab": {
          "base_uri": "https://localhost:8080/"
        },
        "outputId": "be4fa5c6-ee32-47ec-a70f-f5c252cd2f02"
      },
      "execution_count": null,
      "outputs": [
        {
          "output_type": "execute_result",
          "data": {
            "text/plain": [
              "(4803, 20978)"
            ]
          },
          "metadata": {},
          "execution_count": 12
        }
      ]
    },
    {
      "cell_type": "markdown",
      "source": [
        "We see that over 20,000 different words were used to describe the 4800 movies in our dataset.\n",
        "\n",
        "With this matrix in hand, we can now compute a similarity score. There are several candidates for this; such as the euclidean, the Pearson and the [cosine similarity scores](https://en.wikipedia.org/wiki/Cosine_similarity). There is no right answer to which score is the best. Different scores work well in different scenarios and it is often a good idea to experiment with different metrics.\n",
        "\n",
        "We will be using the cosine similarity to calculate a numeric quantity that denotes the similarity between two movies. We use the cosine similarity score since it is independent of magnitude and is relatively easy and fast to calculate. Mathematically, it is defined as follows:\n",
        "![](data:image/png;base64,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)"
      ],
      "metadata": {
        "_uuid": "6bde57434bf9a0e8f8b229d36901d75b77ff962f",
        "id": "iXASSUG6_jNz"
      }
    },
    {
      "cell_type": "markdown",
      "source": [
        "Since we have used the TF-IDF vectorizer, calculating the dot product will directly give us the cosine similarity score. Therefore, we will use sklearn's **linear_kernel()** instead of cosine_similarities() since it is faster."
      ],
      "metadata": {
        "_uuid": "c1c138ae64648cb5a94127a06441d88dddc2bd9a",
        "id": "zvHw7Ne4_jN0"
      }
    },
    {
      "cell_type": "code",
      "source": [
        "# Import linear_kernel\n",
        "from sklearn.metrics.pairwise import linear_kernel\n",
        "\n",
        "# Compute the cosine similarity matrix\n",
        "cosine_sim = linear_kernel(tfidf_matrix, tfidf_matrix)"
      ],
      "metadata": {
        "_uuid": "5eb17d12220eecab4faf01bbfd13e79d8e446537",
        "trusted": true,
        "id": "nQH7fc4q_jN0"
      },
      "execution_count": null,
      "outputs": []
    },
    {
      "cell_type": "markdown",
      "source": [
        "We are going to define a function that takes in a movie title as an input and outputs a list of the 10 most similar movies. Firstly, for this, we need a reverse mapping of movie titles and DataFrame indices. In other words, we need a mechanism to identify the index of a movie in our metadata DataFrame, given its title."
      ],
      "metadata": {
        "_uuid": "f5ca112fbbe25b11f0f3356a31d1604727242700",
        "id": "ZdMPf3bj_jN3"
      }
    },
    {
      "cell_type": "code",
      "source": [
        "#Construct a reverse map of indices and movie titles\n",
        "indices = pd.Series(df2.index, index=df2['title']).drop_duplicates()\n"
      ],
      "metadata": {
        "_uuid": "55df2df36be98e6dec5f617a5aa51b77c500faa4",
        "trusted": true,
        "id": "Owkg89fj_jN_"
      },
      "execution_count": null,
      "outputs": []
    },
    {
      "cell_type": "markdown",
      "source": [
        "We are now in a good position to define our recommendation function. These are the following steps we'll follow :-\n",
        "* Get the index of the movie given its title.\n",
        "* Get the list of cosine similarity scores for that particular movie with all movies. Convert it into a list of tuples where the first element is its position and the second is the similarity score.\n",
        "* Sort the aforementioned list of tuples based on the similarity scores; that is, the second element.\n",
        "* Get the top 10 elements of this list. Ignore the first element as it refers to self (the movie most similar to a particular movie is the movie itself).\n",
        "* Return the titles corresponding to the indices of the top elements."
      ],
      "metadata": {
        "_uuid": "da5896c6ccfd44c3347af3097275d0aa707c1001",
        "id": "W8FA1qhB_jN_"
      }
    },
    {
      "cell_type": "code",
      "source": [
        "# Function that takes in movie title as input and outputs most similar movies\n",
        "def get_recommendations(title, cosine_sim=cosine_sim):\n",
        "    # Get the index of the movie that matches the title\n",
        "    idx = indices[title]\n",
        "\n",
        "    # Get the pairwsie similarity scores of all movies with that movie\n",
        "    sim_scores = list(enumerate(cosine_sim[idx]))\n",
        "\n",
        "    # Sort the movies based on the similarity scores\n",
        "    sim_scores = sorted(sim_scores, key=lambda x: x[1], reverse=True)\n",
        "\n",
        "    # Get the scores of the 10 most similar movies\n",
        "    sim_scores = sim_scores[1:11]\n",
        "\n",
        "    # Get the movie indices\n",
        "    movie_indices = [i[0] for i in sim_scores]\n",
        "\n",
        "    # Return the top 10 most similar movies\n",
        "    return df2['title'].iloc[movie_indices]"
      ],
      "metadata": {
        "_uuid": "9c383fcbb916dce464b01adf980d26ad96aebe0e",
        "trusted": true,
        "id": "qujKSVEI_jN_"
      },
      "execution_count": null,
      "outputs": []
    },
    {
      "cell_type": "code",
      "source": [
        "get_recommendations('The Dark Knight Rises')"
      ],
      "metadata": {
        "_uuid": "14d722124f82e69cb444adcc589e396c75cbb4ff",
        "trusted": true,
        "id": "twE8qjrA_jOA",
        "colab": {
          "base_uri": "https://localhost:8080/",
          "height": 397
        },
        "outputId": "62fc1d5e-be49-4bcf-dec8-09a6be2d625b"
      },
      "execution_count": null,
      "outputs": [
        {
          "output_type": "execute_result",
          "data": {
            "text/plain": [
              "65                              The Dark Knight\n",
              "299                              Batman Forever\n",
              "428                              Batman Returns\n",
              "1359                                     Batman\n",
              "3854    Batman: The Dark Knight Returns, Part 2\n",
              "119                               Batman Begins\n",
              "2507                                  Slow Burn\n",
              "9            Batman v Superman: Dawn of Justice\n",
              "1181                                        JFK\n",
              "210                              Batman & Robin\n",
              "Name: title, dtype: object"
            ],
            "text/html": [
              "<div>\n",
              "<style scoped>\n",
              "    .dataframe tbody tr th:only-of-type {\n",
              "        vertical-align: middle;\n",
              "    }\n",
              "\n",
              "    .dataframe tbody tr th {\n",
              "        vertical-align: top;\n",
              "    }\n",
              "\n",
              "    .dataframe thead th {\n",
              "        text-align: right;\n",
              "    }\n",
              "</style>\n",
              "<table border=\"1\" class=\"dataframe\">\n",
              "  <thead>\n",
              "    <tr style=\"text-align: right;\">\n",
              "      <th></th>\n",
              "      <th>title</th>\n",
              "    </tr>\n",
              "  </thead>\n",
              "  <tbody>\n",
              "    <tr>\n",
              "      <th>65</th>\n",
              "      <td>The Dark Knight</td>\n",
              "    </tr>\n",
              "    <tr>\n",
              "      <th>299</th>\n",
              "      <td>Batman Forever</td>\n",
              "    </tr>\n",
              "    <tr>\n",
              "      <th>428</th>\n",
              "      <td>Batman Returns</td>\n",
              "    </tr>\n",
              "    <tr>\n",
              "      <th>1359</th>\n",
              "      <td>Batman</td>\n",
              "    </tr>\n",
              "    <tr>\n",
              "      <th>3854</th>\n",
              "      <td>Batman: The Dark Knight Returns, Part 2</td>\n",
              "    </tr>\n",
              "    <tr>\n",
              "      <th>119</th>\n",
              "      <td>Batman Begins</td>\n",
              "    </tr>\n",
              "    <tr>\n",
              "      <th>2507</th>\n",
              "      <td>Slow Burn</td>\n",
              "    </tr>\n",
              "    <tr>\n",
              "      <th>9</th>\n",
              "      <td>Batman v Superman: Dawn of Justice</td>\n",
              "    </tr>\n",
              "    <tr>\n",
              "      <th>1181</th>\n",
              "      <td>JFK</td>\n",
              "    </tr>\n",
              "    <tr>\n",
              "      <th>210</th>\n",
              "      <td>Batman &amp; Robin</td>\n",
              "    </tr>\n",
              "  </tbody>\n",
              "</table>\n",
              "</div><br><label><b>dtype:</b> object</label>"
            ]
          },
          "metadata": {},
          "execution_count": 16
        }
      ]
    },
    {
      "cell_type": "code",
      "source": [
        "get_recommendations('The Avengers')"
      ],
      "metadata": {
        "_uuid": "902b9f1ab91921889c85e9008818dcc0b4710ccd",
        "trusted": true,
        "id": "HT1nQpMw_jOA",
        "colab": {
          "base_uri": "https://localhost:8080/",
          "height": 397
        },
        "outputId": "025a62bf-45aa-44f5-b945-83fa3bb76838"
      },
      "execution_count": null,
      "outputs": [
        {
          "output_type": "execute_result",
          "data": {
            "text/plain": [
              "7               Avengers: Age of Ultron\n",
              "3144                            Plastic\n",
              "1715                            Timecop\n",
              "4124                 This Thing of Ours\n",
              "3311              Thank You for Smoking\n",
              "3033                      The Corruptor\n",
              "588     Wall Street: Money Never Sleeps\n",
              "2136         Team America: World Police\n",
              "1468                       The Fountain\n",
              "1286                        Snowpiercer\n",
              "Name: title, dtype: object"
            ],
            "text/html": [
              "<div>\n",
              "<style scoped>\n",
              "    .dataframe tbody tr th:only-of-type {\n",
              "        vertical-align: middle;\n",
              "    }\n",
              "\n",
              "    .dataframe tbody tr th {\n",
              "        vertical-align: top;\n",
              "    }\n",
              "\n",
              "    .dataframe thead th {\n",
              "        text-align: right;\n",
              "    }\n",
              "</style>\n",
              "<table border=\"1\" class=\"dataframe\">\n",
              "  <thead>\n",
              "    <tr style=\"text-align: right;\">\n",
              "      <th></th>\n",
              "      <th>title</th>\n",
              "    </tr>\n",
              "  </thead>\n",
              "  <tbody>\n",
              "    <tr>\n",
              "      <th>7</th>\n",
              "      <td>Avengers: Age of Ultron</td>\n",
              "    </tr>\n",
              "    <tr>\n",
              "      <th>3144</th>\n",
              "      <td>Plastic</td>\n",
              "    </tr>\n",
              "    <tr>\n",
              "      <th>1715</th>\n",
              "      <td>Timecop</td>\n",
              "    </tr>\n",
              "    <tr>\n",
              "      <th>4124</th>\n",
              "      <td>This Thing of Ours</td>\n",
              "    </tr>\n",
              "    <tr>\n",
              "      <th>3311</th>\n",
              "      <td>Thank You for Smoking</td>\n",
              "    </tr>\n",
              "    <tr>\n",
              "      <th>3033</th>\n",
              "      <td>The Corruptor</td>\n",
              "    </tr>\n",
              "    <tr>\n",
              "      <th>588</th>\n",
              "      <td>Wall Street: Money Never Sleeps</td>\n",
              "    </tr>\n",
              "    <tr>\n",
              "      <th>2136</th>\n",
              "      <td>Team America: World Police</td>\n",
              "    </tr>\n",
              "    <tr>\n",
              "      <th>1468</th>\n",
              "      <td>The Fountain</td>\n",
              "    </tr>\n",
              "    <tr>\n",
              "      <th>1286</th>\n",
              "      <td>Snowpiercer</td>\n",
              "    </tr>\n",
              "  </tbody>\n",
              "</table>\n",
              "</div><br><label><b>dtype:</b> object</label>"
            ]
          },
          "metadata": {},
          "execution_count": 17
        }
      ]
    },
    {
      "cell_type": "markdown",
      "source": [
        "While our system has done a decent job of finding movies with similar plot descriptions, the quality of recommendations is not that great. \"The Dark Knight Rises\" returns all Batman movies while it is more likely that the people who liked that movie are more inclined to enjoy other Christopher Nolan movies. This is something that cannot be captured by the present system."
      ],
      "metadata": {
        "_uuid": "146302c25776b2c0076e64663a5e2e41e977fd2c",
        "id": "JFNZbtZK_jOA"
      }
    },
    {
      "cell_type": "markdown",
      "source": [
        "\n",
        "# **CONCLUSION:**\n",
        "\n",
        "In this project, we successfully implemented two types of movie recommendation systems: Demographic Filtering and Content-Based Filtering.\n",
        "\n",
        "1. Demographic Recommendation System provided general suggestions based on popularity metrics such as vote counts and average ratings. This system is useful for new users or when no personal preferences are available, offering a quick way to surface trending or critically acclaimed movies.\n",
        "\n",
        "2. Content-Based Recommendation System leveraged the plot descriptions (overview feature) of movies to compute pairwise similarity scores. Using text-based similarity measures, we recommended movies with similar themes and narratives, enabling personalized suggestions based on a user's interest in a particular movie or genre.\n",
        "\n",
        "By combining these methods, we were able to offer both general recommendations and personalized experiences. This hybrid approach enhances user satisfaction by addressing the needs of both new and returning users, forming a strong foundation for a more advanced, personalized movie recommendation engine."
      ],
      "metadata": {
        "id": "J6hfra3bD4SQ"
      }
    },
    {
      "cell_type": "code",
      "source": [],
      "metadata": {
        "id": "giS2OrwVD5fo"
      },
      "execution_count": null,
      "outputs": []
    }
  ]
}